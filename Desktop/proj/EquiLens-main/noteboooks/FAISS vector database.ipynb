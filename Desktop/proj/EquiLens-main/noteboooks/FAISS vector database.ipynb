{
 "cells": [
  {
   "cell_type": "code",
   "execution_count": 1,
   "id": "0bbf0572-85ff-4f57-8152-90991cc3ecd1",
   "metadata": {
    "scrolled": true
   },
   "outputs": [
    {
     "name": "stdout",
     "output_type": "stream",
     "text": [
      "Requirement already satisfied: faiss-cpu in c:\\users\\ilham\\appdata\\local\\programs\\python\\python312\\lib\\site-packages (1.8.0.post1)\n",
      "Requirement already satisfied: numpy<2.0,>=1.0 in c:\\users\\ilham\\appdata\\local\\programs\\python\\python312\\lib\\site-packages (from faiss-cpu) (1.26.4)\n",
      "Requirement already satisfied: packaging in c:\\users\\ilham\\appdata\\local\\programs\\python\\python312\\lib\\site-packages (from faiss-cpu) (24.1)\n",
      "Requirement already satisfied: sentence-transformers in c:\\users\\ilham\\appdata\\local\\programs\\python\\python312\\lib\\site-packages (3.0.1)\n",
      "Requirement already satisfied: transformers<5.0.0,>=4.34.0 in c:\\users\\ilham\\appdata\\local\\programs\\python\\python312\\lib\\site-packages (from sentence-transformers) (4.44.2)\n",
      "Requirement already satisfied: tqdm in c:\\users\\ilham\\appdata\\local\\programs\\python\\python312\\lib\\site-packages (from sentence-transformers) (4.66.5)\n",
      "Requirement already satisfied: torch>=1.11.0 in c:\\users\\ilham\\appdata\\local\\programs\\python\\python312\\lib\\site-packages (from sentence-transformers) (2.4.1)\n",
      "Requirement already satisfied: numpy in c:\\users\\ilham\\appdata\\local\\programs\\python\\python312\\lib\\site-packages (from sentence-transformers) (1.26.4)\n",
      "Requirement already satisfied: scikit-learn in c:\\users\\ilham\\appdata\\local\\programs\\python\\python312\\lib\\site-packages (from sentence-transformers) (1.5.1)\n",
      "Requirement already satisfied: scipy in c:\\users\\ilham\\appdata\\local\\programs\\python\\python312\\lib\\site-packages (from sentence-transformers) (1.14.0)\n",
      "Requirement already satisfied: huggingface-hub>=0.15.1 in c:\\users\\ilham\\appdata\\local\\programs\\python\\python312\\lib\\site-packages (from sentence-transformers) (0.24.6)\n",
      "Requirement already satisfied: Pillow in c:\\users\\ilham\\appdata\\local\\programs\\python\\python312\\lib\\site-packages (from sentence-transformers) (10.4.0)\n",
      "Requirement already satisfied: filelock in c:\\users\\ilham\\appdata\\local\\programs\\python\\python312\\lib\\site-packages (from huggingface-hub>=0.15.1->sentence-transformers) (3.16.0)\n",
      "Requirement already satisfied: fsspec>=2023.5.0 in c:\\users\\ilham\\appdata\\local\\programs\\python\\python312\\lib\\site-packages (from huggingface-hub>=0.15.1->sentence-transformers) (2024.9.0)\n",
      "Requirement already satisfied: packaging>=20.9 in c:\\users\\ilham\\appdata\\local\\programs\\python\\python312\\lib\\site-packages (from huggingface-hub>=0.15.1->sentence-transformers) (24.1)\n",
      "Requirement already satisfied: pyyaml>=5.1 in c:\\users\\ilham\\appdata\\local\\programs\\python\\python312\\lib\\site-packages (from huggingface-hub>=0.15.1->sentence-transformers) (6.0.1)\n",
      "Requirement already satisfied: requests in c:\\users\\ilham\\appdata\\local\\programs\\python\\python312\\lib\\site-packages (from huggingface-hub>=0.15.1->sentence-transformers) (2.32.3)\n",
      "Requirement already satisfied: typing-extensions>=3.7.4.3 in c:\\users\\ilham\\appdata\\local\\programs\\python\\python312\\lib\\site-packages (from huggingface-hub>=0.15.1->sentence-transformers) (4.12.2)\n",
      "Requirement already satisfied: sympy in c:\\users\\ilham\\appdata\\local\\programs\\python\\python312\\lib\\site-packages (from torch>=1.11.0->sentence-transformers) (1.13.2)\n",
      "Requirement already satisfied: networkx in c:\\users\\ilham\\appdata\\local\\programs\\python\\python312\\lib\\site-packages (from torch>=1.11.0->sentence-transformers) (3.3)\n",
      "Requirement already satisfied: jinja2 in c:\\users\\ilham\\appdata\\local\\programs\\python\\python312\\lib\\site-packages (from torch>=1.11.0->sentence-transformers) (3.1.4)\n",
      "Requirement already satisfied: setuptools in c:\\users\\ilham\\appdata\\local\\programs\\python\\python312\\lib\\site-packages (from torch>=1.11.0->sentence-transformers) (71.1.0)\n",
      "Requirement already satisfied: colorama in c:\\users\\ilham\\appdata\\local\\programs\\python\\python312\\lib\\site-packages (from tqdm->sentence-transformers) (0.4.6)\n",
      "Requirement already satisfied: regex!=2019.12.17 in c:\\users\\ilham\\appdata\\local\\programs\\python\\python312\\lib\\site-packages (from transformers<5.0.0,>=4.34.0->sentence-transformers) (2024.7.24)\n",
      "Requirement already satisfied: safetensors>=0.4.1 in c:\\users\\ilham\\appdata\\local\\programs\\python\\python312\\lib\\site-packages (from transformers<5.0.0,>=4.34.0->sentence-transformers) (0.4.5)\n",
      "Requirement already satisfied: tokenizers<0.20,>=0.19 in c:\\users\\ilham\\appdata\\local\\programs\\python\\python312\\lib\\site-packages (from transformers<5.0.0,>=4.34.0->sentence-transformers) (0.19.1)\n",
      "Requirement already satisfied: joblib>=1.2.0 in c:\\users\\ilham\\appdata\\local\\programs\\python\\python312\\lib\\site-packages (from scikit-learn->sentence-transformers) (1.4.2)\n",
      "Requirement already satisfied: threadpoolctl>=3.1.0 in c:\\users\\ilham\\appdata\\local\\programs\\python\\python312\\lib\\site-packages (from scikit-learn->sentence-transformers) (3.5.0)\n",
      "Requirement already satisfied: MarkupSafe>=2.0 in c:\\users\\ilham\\appdata\\local\\programs\\python\\python312\\lib\\site-packages (from jinja2->torch>=1.11.0->sentence-transformers) (2.1.5)\n",
      "Requirement already satisfied: charset-normalizer<4,>=2 in c:\\users\\ilham\\appdata\\local\\programs\\python\\python312\\lib\\site-packages (from requests->huggingface-hub>=0.15.1->sentence-transformers) (3.3.2)\n",
      "Requirement already satisfied: idna<4,>=2.5 in c:\\users\\ilham\\appdata\\local\\programs\\python\\python312\\lib\\site-packages (from requests->huggingface-hub>=0.15.1->sentence-transformers) (3.7)\n",
      "Requirement already satisfied: urllib3<3,>=1.21.1 in c:\\users\\ilham\\appdata\\local\\programs\\python\\python312\\lib\\site-packages (from requests->huggingface-hub>=0.15.1->sentence-transformers) (2.2.2)\n",
      "Requirement already satisfied: certifi>=2017.4.17 in c:\\users\\ilham\\appdata\\local\\programs\\python\\python312\\lib\\site-packages (from requests->huggingface-hub>=0.15.1->sentence-transformers) (2024.7.4)\n",
      "Requirement already satisfied: mpmath<1.4,>=1.1.0 in c:\\users\\ilham\\appdata\\local\\programs\\python\\python312\\lib\\site-packages (from sympy->torch>=1.11.0->sentence-transformers) (1.3.0)\n"
     ]
    }
   ],
   "source": [
    "!pip install faiss-cpu\n",
    "!pip install sentence-transformers"
   ]
  },
  {
   "cell_type": "code",
   "execution_count": 2,
   "id": "c54f9385-42b3-4631-9c16-84dd4f64eda4",
   "metadata": {},
   "outputs": [],
   "source": [
    "import pandas as pd"
   ]
  },
  {
   "cell_type": "code",
   "execution_count": 3,
   "id": "e26ee5db-c2d7-4c8c-949b-c11806128af1",
   "metadata": {},
   "outputs": [],
   "source": [
    "pd.set_option('display.max_colwidth',100)\n",
    "df=pd.read_csv(\"sample_text.csv\")\n"
   ]
  },
  {
   "cell_type": "code",
   "execution_count": 4,
   "id": "0d7c5f61-93a0-4a0f-b25b-2b6b7e5fdfda",
   "metadata": {},
   "outputs": [
    {
     "data": {
      "text/html": [
       "<div>\n",
       "<style scoped>\n",
       "    .dataframe tbody tr th:only-of-type {\n",
       "        vertical-align: middle;\n",
       "    }\n",
       "\n",
       "    .dataframe tbody tr th {\n",
       "        vertical-align: top;\n",
       "    }\n",
       "\n",
       "    .dataframe thead th {\n",
       "        text-align: right;\n",
       "    }\n",
       "</style>\n",
       "<table border=\"1\" class=\"dataframe\">\n",
       "  <thead>\n",
       "    <tr style=\"text-align: right;\">\n",
       "      <th></th>\n",
       "      <th>text</th>\n",
       "      <th>category</th>\n",
       "    </tr>\n",
       "  </thead>\n",
       "  <tbody>\n",
       "    <tr>\n",
       "      <th>0</th>\n",
       "      <td>Meditation and yoga can improve mental health</td>\n",
       "      <td>Health</td>\n",
       "    </tr>\n",
       "    <tr>\n",
       "      <th>1</th>\n",
       "      <td>Fruits, whole grains and vegetables helps control blood pressure</td>\n",
       "      <td>Health</td>\n",
       "    </tr>\n",
       "    <tr>\n",
       "      <th>2</th>\n",
       "      <td>These are the latest fashion trends for this week</td>\n",
       "      <td>Fashion</td>\n",
       "    </tr>\n",
       "    <tr>\n",
       "      <th>3</th>\n",
       "      <td>Vibrant color jeans for male are becoming a trend</td>\n",
       "      <td>Fashion</td>\n",
       "    </tr>\n",
       "    <tr>\n",
       "      <th>4</th>\n",
       "      <td>The concert starts at 7 PM tonight</td>\n",
       "      <td>Event</td>\n",
       "    </tr>\n",
       "    <tr>\n",
       "      <th>5</th>\n",
       "      <td>Navaratri dandiya program at Expo center in Mumbai this october</td>\n",
       "      <td>Event</td>\n",
       "    </tr>\n",
       "    <tr>\n",
       "      <th>6</th>\n",
       "      <td>Exciting vacation destinations for your next trip</td>\n",
       "      <td>Travel</td>\n",
       "    </tr>\n",
       "    <tr>\n",
       "      <th>7</th>\n",
       "      <td>Maldives and Srilanka are gaining popularity in terms of low budget vacation places</td>\n",
       "      <td>Travel</td>\n",
       "    </tr>\n",
       "  </tbody>\n",
       "</table>\n",
       "</div>"
      ],
      "text/plain": [
       "                                                                                  text  \\\n",
       "0                                        Meditation and yoga can improve mental health   \n",
       "1                     Fruits, whole grains and vegetables helps control blood pressure   \n",
       "2                                    These are the latest fashion trends for this week   \n",
       "3                                    Vibrant color jeans for male are becoming a trend   \n",
       "4                                                   The concert starts at 7 PM tonight   \n",
       "5                      Navaratri dandiya program at Expo center in Mumbai this october   \n",
       "6                                    Exciting vacation destinations for your next trip   \n",
       "7  Maldives and Srilanka are gaining popularity in terms of low budget vacation places   \n",
       "\n",
       "  category  \n",
       "0   Health  \n",
       "1   Health  \n",
       "2  Fashion  \n",
       "3  Fashion  \n",
       "4    Event  \n",
       "5    Event  \n",
       "6   Travel  \n",
       "7   Travel  "
      ]
     },
     "execution_count": 4,
     "metadata": {},
     "output_type": "execute_result"
    }
   ],
   "source": [
    "df"
   ]
  },
  {
   "cell_type": "markdown",
   "id": "4542ed50-1744-4bc7-9a6b-932143030f7c",
   "metadata": {},
   "source": [
    "### Creating source embeddings"
   ]
  },
  {
   "cell_type": "code",
   "execution_count": 5,
   "id": "6d565ccb-52d5-4e5d-aea4-900b05e3b5e3",
   "metadata": {},
   "outputs": [
    {
     "name": "stderr",
     "output_type": "stream",
     "text": [
      "C:\\Users\\Ilham\\AppData\\Local\\Programs\\Python\\Python312\\Lib\\site-packages\\sentence_transformers\\cross_encoder\\CrossEncoder.py:11: TqdmWarning: IProgress not found. Please update jupyter and ipywidgets. See https://ipywidgets.readthedocs.io/en/stable/user_install.html\n",
      "  from tqdm.autonotebook import tqdm, trange\n"
     ]
    }
   ],
   "source": [
    "from sentence_transformers import SentenceTransformer\n"
   ]
  },
  {
   "cell_type": "code",
   "execution_count": 6,
   "id": "4f75d271-aba4-4c71-b2a6-596b123ee420",
   "metadata": {},
   "outputs": [
    {
     "name": "stderr",
     "output_type": "stream",
     "text": [
      "C:\\Users\\Ilham\\AppData\\Local\\Programs\\Python\\Python312\\Lib\\site-packages\\transformers\\tokenization_utils_base.py:1601: FutureWarning: `clean_up_tokenization_spaces` was not set. It will be set to `True` by default. This behavior will be depracted in transformers v4.45, and will be then set to `False` by default. For more details check this issue: https://github.com/huggingface/transformers/issues/31884\n",
      "  warnings.warn(\n"
     ]
    }
   ],
   "source": [
    "encoder = SentenceTransformer(\"all-mpnet-base-v2\")\n",
    "vectors = encoder.encode(df.text)"
   ]
  },
  {
   "cell_type": "code",
   "execution_count": 7,
   "id": "b30caa0c-51e7-4433-9e71-5dc09d643b52",
   "metadata": {},
   "outputs": [
    {
     "data": {
      "text/plain": [
       "(8, 768)"
      ]
     },
     "execution_count": 7,
     "metadata": {},
     "output_type": "execute_result"
    }
   ],
   "source": [
    "vectors.shape"
   ]
  },
  {
   "cell_type": "code",
   "execution_count": 8,
   "id": "070cbe60-b9e4-429f-b19a-6fdd0370e2d9",
   "metadata": {
    "scrolled": true
   },
   "outputs": [
    {
     "data": {
      "text/plain": [
       "array([-2.47388682e-03,  3.62673365e-02, -5.29046096e-02, -2.17348877e-02,\n",
       "        1.41724274e-02, -1.01590191e-03,  2.23637223e-02,  3.65196280e-02,\n",
       "        3.80901434e-02,  5.22014312e-03, -3.00865453e-02,  2.05452158e-03,\n",
       "        1.08502563e-02, -8.49087536e-02, -5.57267573e-03, -6.06598817e-02,\n",
       "        2.32008263e-03, -1.51408855e-02,  1.20671112e-02,  1.98904984e-02,\n",
       "       -1.27936248e-02, -2.72811372e-02, -3.31878886e-02,  3.40650789e-03,\n",
       "        8.41175765e-03, -1.94854587e-02,  4.88132462e-02,  2.24119071e-02,\n",
       "        4.53466363e-02, -5.90892173e-02, -9.13182870e-02, -1.22325413e-03,\n",
       "       -4.05045599e-02,  8.67179222e-03,  1.26565305e-06, -1.92451477e-02,\n",
       "       -3.20659019e-02, -4.08172496e-02,  8.79176334e-02, -1.52631244e-02,\n",
       "        1.09909130e-02, -4.47978042e-02, -4.74823685e-03,  3.52632664e-02,\n",
       "        1.31070921e-02,  1.09944073e-02, -3.45755927e-03,  9.12349299e-02,\n",
       "        5.68808839e-02,  4.82893139e-02, -4.51440783e-03,  3.58451791e-02,\n",
       "       -2.44209990e-02, -4.28085364e-02, -1.66666936e-02,  1.65211670e-02,\n",
       "        1.14226993e-02,  6.19199648e-02, -2.31557172e-02, -3.98107618e-02,\n",
       "       -1.20360432e-02, -3.24893259e-02, -4.68718559e-02,  5.74309155e-02,\n",
       "       -2.09294781e-02,  8.66615493e-03,  2.93695126e-02,  1.39484182e-03,\n",
       "        2.89673507e-02,  1.57141108e-02, -4.39890660e-03,  3.33096124e-02,\n",
       "        3.25463787e-02, -5.67626394e-03,  9.64478869e-03, -1.09199621e-02,\n",
       "       -9.13847145e-03, -2.17638630e-02, -1.64260028e-03,  2.95123626e-02,\n",
       "        7.90998563e-02,  1.52951945e-02, -3.61723267e-02, -1.28437905e-02,\n",
       "        7.60599449e-02, -2.54636910e-02, -4.98352339e-03, -9.66975745e-03,\n",
       "        1.23359570e-02, -1.11458451e-02, -1.25427153e-02, -4.38241363e-02,\n",
       "       -1.63968350e-03,  3.94689525e-03,  5.90760668e-04,  1.25497449e-02,\n",
       "       -1.35575784e-02, -1.38589978e-01, -1.79839581e-02,  8.95771235e-02,\n",
       "        6.93042651e-02,  5.44512570e-02, -1.73114929e-02, -6.94497079e-02,\n",
       "        9.26834811e-03,  2.52373498e-02,  1.27631109e-02, -4.95671434e-03,\n",
       "       -1.05311424e-02,  6.89907447e-02, -4.03776672e-03,  1.46954143e-02,\n",
       "       -2.53697000e-02, -3.24942619e-02, -4.91565838e-03,  4.10974678e-03,\n",
       "       -6.16341718e-02, -9.87222698e-03, -4.40229960e-02, -2.49388143e-02,\n",
       "       -2.57239584e-02, -6.45754710e-02, -2.28088610e-02,  8.39943532e-04,\n",
       "        5.17682657e-02,  7.28096291e-02, -2.78259888e-02, -2.70896442e-02,\n",
       "        2.56124586e-02, -2.85153370e-02,  2.48930715e-02,  1.52170369e-02,\n",
       "       -1.82602145e-02,  4.57472820e-03,  4.00794111e-03, -4.10633795e-02,\n",
       "        5.58519028e-02, -4.68989788e-03, -5.42436801e-02,  4.36736783e-03,\n",
       "        1.01203136e-02, -9.13167186e-03,  8.82923380e-02, -2.30879001e-02,\n",
       "       -2.15983484e-02, -4.62850370e-02,  2.45606769e-02, -9.63641331e-03,\n",
       "        2.04569120e-02, -3.36907208e-02, -2.33146939e-02, -2.99948533e-06,\n",
       "       -4.21611629e-02, -2.33145580e-02,  3.98630686e-02,  5.20909429e-02,\n",
       "        8.87797549e-02, -7.32787710e-04,  3.44772451e-02, -2.87740361e-02,\n",
       "        4.24331054e-02, -1.99290887e-02,  2.78220363e-02, -3.48257571e-02,\n",
       "        5.40323146e-02, -4.23691086e-02,  8.31101239e-02, -2.88300887e-02,\n",
       "       -6.22713380e-02,  2.47736685e-02, -6.59209937e-02, -1.81272645e-02,\n",
       "       -1.48121240e-02,  1.07428901e-01, -4.06897115e-03,  6.28882945e-02,\n",
       "       -1.45184444e-02,  2.66863406e-02, -8.66079852e-02, -1.52694881e-02,\n",
       "       -3.13386857e-03, -2.73707439e-03, -1.79908983e-02,  1.99596994e-02,\n",
       "        8.21225643e-02,  6.80240477e-03, -7.02429842e-03,  2.94617508e-02,\n",
       "       -1.36625208e-02, -4.27073799e-02, -4.59483974e-02, -2.15018503e-02,\n",
       "        1.33593986e-02, -4.04234566e-02, -3.29469889e-03,  1.99418031e-02,\n",
       "        4.95412312e-02,  5.59020750e-02,  1.10123809e-02, -1.27648679e-03,\n",
       "       -3.47213447e-02,  5.04798032e-02, -2.76383720e-02, -6.08148985e-02,\n",
       "       -4.09358740e-02, -1.70139186e-02,  2.28633732e-02,  3.50619294e-03,\n",
       "        8.88337493e-02, -2.17468850e-02,  7.32043339e-03,  4.30594906e-02,\n",
       "       -2.76751514e-03, -1.28804455e-02,  1.48886733e-03, -7.65302964e-03,\n",
       "        7.79380905e-04,  3.98992784e-02,  1.81989577e-02,  2.18549790e-03,\n",
       "       -1.44026782e-02,  6.61468878e-02,  1.29945353e-02,  3.00750311e-04,\n",
       "        6.94512129e-02,  9.69151873e-03,  7.73052499e-02,  1.49983671e-02,\n",
       "        7.68603683e-02,  1.50437709e-02, -2.70854235e-02,  1.03822164e-02,\n",
       "       -6.34127669e-03, -1.86571591e-02, -5.77930063e-02,  2.80816313e-02,\n",
       "        2.32388973e-02, -2.65861861e-02, -4.37124707e-02,  2.25694738e-02,\n",
       "        2.60373242e-02,  5.91905825e-02, -9.07660834e-03, -2.58116964e-02,\n",
       "       -2.82167690e-03, -1.48377251e-02, -2.11601723e-02,  2.95709353e-02,\n",
       "       -6.05772771e-02,  9.92968213e-03,  3.09275137e-03, -2.78294571e-02,\n",
       "       -4.66294549e-02, -1.66598763e-02, -3.01650651e-02, -4.93829474e-02,\n",
       "       -4.89023142e-02, -1.16062984e-02,  1.28895417e-02, -1.51607497e-02,\n",
       "       -1.83716770e-02, -6.28020056e-03,  4.56340285e-03, -3.93355079e-02,\n",
       "        1.97598860e-02, -2.09158324e-02,  3.26804332e-02, -9.99123454e-02,\n",
       "       -7.31082913e-03, -2.85854917e-02, -4.75265123e-02, -7.53552606e-03,\n",
       "        7.45945750e-03, -1.76943969e-02, -3.87278162e-02, -1.26045942e-02,\n",
       "        6.57022372e-02,  9.98489484e-02,  3.23768146e-02, -3.14149708e-02,\n",
       "       -3.39230895e-02,  2.18933970e-02,  4.17155549e-02, -2.91293450e-02,\n",
       "        1.69251915e-02, -2.70651449e-02,  1.02947522e-02, -8.51272140e-03,\n",
       "        5.82498349e-02,  6.05037576e-03,  2.51693241e-02,  1.17143840e-02,\n",
       "       -1.43268406e-02, -2.68335994e-02, -3.36445980e-02,  4.13522609e-02,\n",
       "        1.23572852e-02,  3.27557661e-02,  1.36755174e-03, -3.43486629e-02,\n",
       "       -2.23306287e-02,  1.16950972e-02,  2.89604105e-02,  9.82658472e-03,\n",
       "        4.48703542e-02,  1.36505999e-02, -2.55217496e-02,  1.16558503e-02,\n",
       "        1.72282103e-02, -1.19526358e-02,  2.94620059e-02,  5.44002652e-03,\n",
       "        7.05648074e-03, -2.76309419e-02,  2.19649002e-02,  2.89274231e-02,\n",
       "        2.90115606e-02,  1.71293318e-02,  1.71571597e-02,  3.06243300e-02,\n",
       "       -3.33006587e-03, -4.28258777e-02, -2.78930143e-02, -8.78214557e-03,\n",
       "       -1.97484461e-03, -3.04208510e-02,  1.01123922e-01,  1.11175664e-02,\n",
       "        3.70045332e-03,  3.05223633e-02, -6.94845058e-03,  3.36759128e-02,\n",
       "        1.49478223e-02,  5.09506799e-02, -6.17868342e-02, -6.54374659e-02,\n",
       "        1.01318741e-02,  8.71553831e-03, -2.13061273e-02, -7.16117118e-03,\n",
       "        2.81145908e-02,  6.08830107e-03, -6.53893054e-02,  8.65300074e-02,\n",
       "       -4.26639281e-02, -1.95683390e-02,  6.20286493e-03,  5.45220599e-02,\n",
       "       -2.94291967e-04, -7.94980302e-02,  2.34851316e-02, -2.81758700e-02,\n",
       "       -2.67926250e-02,  8.09148047e-03,  1.06042977e-02, -3.51757780e-02,\n",
       "        3.66234891e-02,  1.09313456e-02,  2.97116879e-02,  1.30286869e-02,\n",
       "       -3.92857380e-02,  1.45116486e-02,  1.87348966e-02, -1.32707981e-02,\n",
       "        6.87149838e-02, -3.04465424e-02, -2.08048150e-02,  1.08850654e-02,\n",
       "        2.52188649e-02,  1.71259381e-02, -3.36280987e-02,  5.18849082e-02,\n",
       "       -1.62589606e-02,  1.43419355e-02, -5.09706140e-02,  7.62143359e-02,\n",
       "       -3.95708624e-03, -6.92037866e-02, -5.83421513e-02, -1.35672949e-02,\n",
       "        6.34211861e-03,  1.52591588e-02,  6.45111501e-03,  4.78066783e-03,\n",
       "        2.21219044e-02, -1.46031165e-02,  1.99064184e-02,  4.94005121e-02,\n",
       "        3.77785638e-02, -4.72102687e-02,  1.19159813e-03, -7.77721256e-02,\n",
       "        7.51761645e-02,  1.51349306e-02, -3.00766770e-02, -2.54277755e-02,\n",
       "       -7.68560125e-03, -3.32965553e-02,  2.68353838e-02,  1.16433231e-02,\n",
       "       -2.65071858e-02, -2.21001469e-02,  3.13199461e-02, -1.75454877e-02,\n",
       "        1.62755586e-02,  1.05226757e-02,  4.59099486e-02,  1.12993941e-02,\n",
       "        2.25943560e-03, -4.32900488e-02,  2.55048703e-02,  9.08372626e-02,\n",
       "        3.49960364e-02,  1.99541152e-02,  8.99380594e-02, -1.25247017e-02,\n",
       "        2.99614966e-02,  5.30709932e-03,  3.87516581e-02, -7.73843601e-02,\n",
       "       -2.13108286e-02,  1.71742626e-02, -2.26807874e-02,  3.90663631e-02,\n",
       "       -1.48160243e-02,  6.43334538e-02,  4.15602550e-02,  3.50654800e-03,\n",
       "       -3.73801030e-02, -2.15710532e-02,  3.59704271e-02,  1.26671027e-02,\n",
       "        1.18572209e-02, -1.57607533e-02,  2.89345831e-02, -1.26254547e-03,\n",
       "       -1.25826066e-02, -1.85954180e-02, -4.02568057e-02, -4.52977456e-02,\n",
       "       -3.23485732e-02, -9.25441273e-03,  1.25144366e-02, -1.65085811e-02,\n",
       "        1.14767132e-02,  2.81502735e-02,  8.33325908e-02,  3.36187445e-02,\n",
       "        4.08953027e-04,  3.39800417e-02,  1.61179733e-02,  3.48990709e-02,\n",
       "        1.53090321e-02, -1.57535020e-02,  4.15872820e-02, -2.98247524e-02,\n",
       "       -4.53815162e-02, -1.02242306e-01,  4.03167792e-02,  1.70004275e-02,\n",
       "        1.87225789e-02, -2.08054855e-03, -3.33345449e-03,  3.12030073e-02,\n",
       "        4.42113262e-04, -6.45755827e-02, -6.61168322e-02, -6.12062886e-02,\n",
       "       -1.36191351e-02, -2.49696411e-02,  6.13838583e-02,  2.51729582e-02,\n",
       "       -6.04646234e-03,  2.46976111e-02,  1.33112539e-02,  2.91291885e-02,\n",
       "       -3.77130024e-02,  3.14110331e-02,  7.01060519e-02, -1.87029354e-02,\n",
       "        4.64439318e-02, -3.50710377e-02,  5.78632113e-03,  2.02969536e-02,\n",
       "       -9.14948469e-04,  2.73546446e-02, -4.49903272e-02, -1.92701183e-02,\n",
       "       -1.94982218e-03, -2.72162799e-02, -1.74501736e-03,  5.99824116e-02,\n",
       "        3.38414893e-03, -4.43554930e-02,  2.25252043e-02, -1.98008604e-02,\n",
       "       -1.27886320e-02, -1.68491043e-02, -3.18891816e-02, -9.83178616e-03,\n",
       "       -2.37169433e-02, -3.51671915e-04,  2.70688091e-03,  4.34033126e-02,\n",
       "        2.23512226e-03,  1.04528842e-02, -1.25210751e-02,  3.80455628e-02,\n",
       "       -5.37344604e-04, -1.31307337e-02,  1.76104438e-02, -3.21563071e-04,\n",
       "       -4.33224812e-02, -6.97795823e-02,  2.04764847e-02,  2.54792790e-03,\n",
       "        3.64245586e-02,  1.31792510e-02,  3.74211818e-02, -2.40744762e-02,\n",
       "        1.58512760e-02,  2.33805459e-02, -1.43252844e-02,  9.85236280e-03,\n",
       "       -1.55072566e-02,  8.11943319e-03, -2.57197600e-02,  4.66310978e-03,\n",
       "       -1.50064481e-02, -1.59888957e-02, -6.18274771e-02, -3.19934934e-02,\n",
       "        3.00306734e-02, -2.62035485e-02, -4.40739989e-02,  4.71211895e-02,\n",
       "       -8.53407010e-02,  5.49825132e-02, -6.54165260e-03,  4.11519036e-02,\n",
       "        4.12454605e-02, -2.99727544e-02,  8.77856687e-02, -4.84300731e-03,\n",
       "       -1.86586902e-02, -2.43210364e-02, -3.44155752e-03,  1.71137005e-02,\n",
       "        5.27162440e-02, -3.81458998e-02, -6.85426667e-02,  1.49509255e-02,\n",
       "       -2.22115219e-02, -2.86749676e-02, -2.97928764e-03, -3.73255787e-33,\n",
       "       -8.48162640e-03,  5.95544316e-02, -9.73885134e-03,  2.78523117e-02,\n",
       "        4.26146528e-03, -4.62204032e-02, -1.60582596e-04,  2.03654245e-02,\n",
       "        2.74291784e-02,  3.67004760e-02,  8.95553641e-03,  7.47958943e-02,\n",
       "       -5.74467843e-03,  1.78796295e-02, -8.56289361e-03, -1.87858045e-02,\n",
       "       -2.86743697e-02,  5.29134739e-03, -7.28310086e-03, -1.84069946e-02,\n",
       "       -3.48132998e-02,  5.07888943e-02,  3.45481671e-02, -4.04980816e-02,\n",
       "       -4.27604429e-02,  2.78409701e-02,  4.66893762e-02, -6.46444783e-02,\n",
       "       -5.29183587e-03, -5.78810461e-03, -1.56755261e-02, -5.47077693e-03,\n",
       "        1.39789470e-02, -1.11802761e-03,  5.50442142e-04, -2.26583909e-02,\n",
       "        1.50560951e-02,  3.38191241e-02, -8.25200416e-03,  2.16513053e-02,\n",
       "        8.77560058e-04, -2.40299944e-03, -2.82622427e-02,  1.05069373e-02,\n",
       "        3.68513726e-02, -2.31945906e-02, -2.93092486e-02, -4.81787845e-02,\n",
       "        2.89041605e-02, -4.68108132e-02, -3.55235077e-02, -2.09481325e-02,\n",
       "       -8.83263256e-03,  8.06664973e-02, -8.48142877e-02, -3.95479016e-02,\n",
       "       -5.03684096e-02,  2.69837584e-02, -3.94665683e-03, -2.39755865e-02,\n",
       "        3.29293273e-02,  4.16705236e-02, -2.45395601e-02, -3.85610126e-02,\n",
       "       -3.02901715e-02, -2.84513738e-02, -6.83768019e-02, -9.38015245e-03,\n",
       "       -4.70949337e-02, -2.15401556e-02,  4.15227450e-02,  6.90567587e-03,\n",
       "        2.96324044e-02, -1.55481342e-02, -2.56334469e-02, -4.94205169e-02,\n",
       "       -1.07960310e-02,  1.36496173e-02,  8.46197270e-03,  4.44031842e-02,\n",
       "        3.94018047e-04,  2.20193956e-02,  3.60402204e-02,  5.93104288e-02,\n",
       "        2.14909799e-02, -1.90566313e-02, -2.08019856e-02,  1.91410650e-02,\n",
       "       -3.78735107e-03,  1.66846383e-02,  2.79685706e-02, -6.88849902e-03,\n",
       "       -9.25207511e-03, -2.20814776e-02,  4.68296185e-02,  2.11678073e-02,\n",
       "       -2.44130790e-02, -7.68523896e-03,  3.94079983e-02, -5.65718487e-02,\n",
       "        8.71805474e-03,  2.10748017e-02, -1.76222734e-02,  5.53251468e-02,\n",
       "        3.49679738e-02, -2.62319185e-02,  5.69753833e-02, -7.94604421e-02,\n",
       "       -1.52110374e-02,  2.09261663e-02,  1.75831653e-02,  4.12070714e-02,\n",
       "        2.66289916e-02, -1.34375114e-02, -4.86178026e-02,  1.27243008e-02,\n",
       "        9.39354207e-03, -8.11945274e-03,  2.95724031e-02, -6.94516897e-02,\n",
       "       -7.10697994e-02,  3.01207503e-04,  4.31027375e-02, -5.95074780e-02,\n",
       "        2.65519433e-02, -5.90478815e-02,  4.46864739e-02, -1.46238031e-02,\n",
       "       -9.81809571e-03, -4.89698909e-02,  1.01139760e-02,  2.82771792e-02,\n",
       "        1.99888518e-07, -6.35881424e-02,  1.15380371e-02, -1.61977317e-02,\n",
       "       -3.75170223e-02,  2.24945284e-02,  5.74996136e-03, -6.25733882e-02,\n",
       "       -1.51105626e-02,  2.80585140e-02,  3.69874313e-02, -4.67125140e-02,\n",
       "       -2.84616072e-02,  1.72771756e-02, -9.28012002e-03,  7.98695982e-02,\n",
       "       -8.46900567e-02,  3.83958332e-02,  1.41010934e-03, -9.62677877e-03,\n",
       "        1.36490958e-02, -1.77746974e-02,  4.18013483e-02,  8.53312388e-03,\n",
       "       -1.77575555e-03, -8.90160352e-03,  3.19797769e-02,  3.75544839e-02,\n",
       "        1.10768508e-02,  5.14426492e-02,  4.77531515e-02,  9.78296772e-02,\n",
       "       -9.33887810e-03, -6.87361732e-02, -3.38470414e-02, -4.79165651e-03,\n",
       "       -3.35370190e-02, -2.90470403e-02,  2.22574919e-02, -6.03153021e-04,\n",
       "        4.80033830e-02, -3.26162763e-02,  7.76100084e-02, -2.88890358e-02,\n",
       "       -1.22943288e-02,  1.82095207e-02, -1.09790385e-01, -2.57627536e-02,\n",
       "        3.70126739e-02, -6.64496189e-03, -2.65492443e-02,  2.67257132e-02,\n",
       "        2.67418083e-02,  6.14940049e-03,  3.98129523e-02, -1.56965328e-03,\n",
       "        6.82437269e-04,  4.84148674e-02,  2.97231739e-03, -1.46996565e-02,\n",
       "       -3.73887382e-02, -1.90462470e-02,  4.02793512e-02,  1.27064204e-03,\n",
       "        1.20827125e-03, -5.90573214e-02, -1.78196039e-02, -5.61401322e-02,\n",
       "        9.20051565e-35,  1.11877890e-02,  1.60857625e-02,  9.83771868e-03,\n",
       "       -2.01887544e-02, -7.61510292e-03, -4.81337458e-02, -6.21873699e-02,\n",
       "        6.26681559e-03, -9.15235728e-02, -3.96999717e-02, -4.33049239e-02],\n",
       "      dtype=float32)"
      ]
     },
     "execution_count": 8,
     "metadata": {},
     "output_type": "execute_result"
    }
   ],
   "source": [
    "vectors[0]"
   ]
  },
  {
   "cell_type": "code",
   "execution_count": 9,
   "id": "23ff1bdf-e9b1-4c11-b9af-3e99563bbec9",
   "metadata": {},
   "outputs": [
    {
     "data": {
      "text/plain": [
       "768"
      ]
     },
     "execution_count": 9,
     "metadata": {},
     "output_type": "execute_result"
    }
   ],
   "source": [
    "dim=vectors.shape[1]\n",
    "dim"
   ]
  },
  {
   "cell_type": "code",
   "execution_count": 10,
   "id": "4f3a2d60-9d23-4bee-a514-f188634d2940",
   "metadata": {},
   "outputs": [
    {
     "data": {
      "text/plain": [
       "<faiss.swigfaiss_avx2.IndexFlatL2; proxy of <Swig Object of type 'faiss::IndexFlatL2 *' at 0x0000028D2D1700C0> >"
      ]
     },
     "execution_count": 10,
     "metadata": {},
     "output_type": "execute_result"
    }
   ],
   "source": [
    "import faiss\n",
    "\n",
    "index=faiss.IndexFlatL2(dim)\n",
    "index"
   ]
  },
  {
   "cell_type": "code",
   "execution_count": 11,
   "id": "2532d870-dd51-47e3-94e8-96582544b642",
   "metadata": {},
   "outputs": [],
   "source": [
    "index.add(vectors)"
   ]
  },
  {
   "cell_type": "markdown",
   "id": "db311596-1baf-4180-bacf-e1262b7a5dbe",
   "metadata": {},
   "source": [
    "### Searching in the vector Databset using query"
   ]
  },
  {
   "cell_type": "code",
   "execution_count": 25,
   "id": "cb1bfb12-aaea-4520-9325-a48f61b95ca2",
   "metadata": {},
   "outputs": [
    {
     "data": {
      "text/plain": [
       "(768,)"
      ]
     },
     "execution_count": 25,
     "metadata": {},
     "output_type": "execute_result"
    }
   ],
   "source": [
    "search_query=\"An apple a day keeps the doctor away\"\n",
    "vec=encoder.encode(search_query)\n",
    "vec.shape"
   ]
  },
  {
   "cell_type": "code",
   "execution_count": 26,
   "id": "d30ae78d-ecb8-4638-8ae2-e9206eb6f4f9",
   "metadata": {},
   "outputs": [
    {
     "data": {
      "text/plain": [
       "(1, 768)"
      ]
     },
     "execution_count": 26,
     "metadata": {},
     "output_type": "execute_result"
    }
   ],
   "source": [
    "import numpy as np\n",
    "svec=np.array(vec).reshape(1,-1)\n",
    "svec.shape"
   ]
  },
  {
   "cell_type": "code",
   "execution_count": 27,
   "id": "fbdceaa4-d419-499d-aa3c-045922c499df",
   "metadata": {},
   "outputs": [
    {
     "data": {
      "text/plain": [
       "array([ 1.77043509e-02,  7.70549551e-02, -1.25191994e-02, -1.39335927e-03,\n",
       "        5.92104020e-03, -1.42678954e-02, -4.72583398e-02,  3.91950132e-03,\n",
       "        4.41601388e-02,  3.09807584e-02,  9.15983692e-02,  2.02602670e-02,\n",
       "       -2.16004699e-02,  1.33207869e-02, -4.14276384e-02,  4.16395292e-02,\n",
       "        4.37018834e-02,  6.06421335e-03,  2.21780464e-02, -1.94715764e-02,\n",
       "       -3.44189666e-02,  3.79219986e-02,  5.27904974e-03,  2.22010985e-02,\n",
       "       -1.11636519e-02, -2.53350567e-02,  7.79389590e-02,  3.47346850e-02,\n",
       "        1.20056318e-02, -6.52653724e-02, -4.83940728e-02, -3.03445458e-02,\n",
       "       -6.99562579e-02, -2.53462177e-02,  1.78119205e-06,  1.50222732e-02,\n",
       "        2.15191860e-02,  2.21124552e-02, -8.38034451e-02,  3.70954210e-03,\n",
       "       -2.21118256e-02, -8.53062272e-02,  6.44918706e-04,  1.62598174e-02,\n",
       "       -1.88166071e-02,  3.99217978e-02, -3.13139334e-02,  2.47449428e-02,\n",
       "       -7.98749086e-03,  6.11144714e-02, -1.47846183e-02,  4.11329966e-05,\n",
       "        1.20446589e-02,  1.73997488e-02, -1.23807937e-02,  2.38852110e-02,\n",
       "       -9.83126741e-03,  1.75076388e-02,  3.92328016e-02,  1.69029031e-02,\n",
       "       -1.22949230e-02, -1.56858731e-02,  1.15022622e-03,  2.66381726e-03,\n",
       "       -3.65190022e-02,  3.99181321e-02,  2.32770592e-02, -2.65943184e-02,\n",
       "        3.42914346e-03, -2.59092785e-02,  1.90303624e-02,  4.13046479e-02,\n",
       "        3.06408457e-03,  2.41178274e-02, -1.84675045e-02, -3.48378681e-02,\n",
       "        1.07848356e-02,  1.52778309e-02, -5.45446984e-02,  2.04392616e-02,\n",
       "        8.67332220e-02, -1.11103291e-03,  2.58431770e-02,  4.41238508e-02,\n",
       "        2.52173487e-02, -1.14587089e-02,  2.93990597e-02, -6.71629468e-03,\n",
       "        3.20293233e-02, -3.14533263e-02, -4.67173755e-03, -4.99908030e-02,\n",
       "        6.74207583e-02,  9.90202930e-03,  4.42092903e-02, -2.79619992e-02,\n",
       "       -1.69544597e-03,  4.54507284e-02,  2.82928627e-02, -1.02378793e-01,\n",
       "       -7.01533630e-02,  2.85663363e-03, -4.89341430e-02,  1.26281828e-02,\n",
       "       -2.31864955e-02, -7.66439512e-02, -7.69930854e-02,  5.50140478e-02,\n",
       "       -2.00011637e-02,  4.48807552e-02, -1.38112931e-02,  2.28754785e-02,\n",
       "        1.16892979e-02,  2.85230670e-02,  1.68069191e-02, -1.49097294e-02,\n",
       "       -2.71183904e-02, -3.71041000e-02, -3.76765169e-02, -6.29144115e-03,\n",
       "        5.77276619e-03,  3.10747549e-02, -1.14387739e-02, -2.62952354e-02,\n",
       "        4.68201041e-02,  6.30384535e-02, -2.33465936e-02,  3.40658873e-02,\n",
       "       -2.16928106e-02, -1.45928953e-02, -3.74503434e-02, -9.98722203e-03,\n",
       "        3.69234495e-02,  2.08494421e-02,  1.27606597e-02,  2.24809498e-02,\n",
       "        1.36923103e-03,  1.40739754e-02,  1.49779962e-02, -3.82493995e-03,\n",
       "       -4.61130217e-02,  6.86566681e-02,  4.46561119e-03,  1.96978804e-02,\n",
       "       -4.78523672e-02, -1.91654954e-02,  6.01812452e-02, -5.46851568e-02,\n",
       "        8.61411449e-03,  3.69113758e-02, -1.29821217e-02, -2.81860214e-02,\n",
       "        1.18905576e-02,  4.10937853e-02,  2.36808117e-02,  3.68572958e-02,\n",
       "        1.49378227e-02, -2.81564910e-02,  1.58005357e-02,  4.92348801e-03,\n",
       "        9.92695149e-03, -4.22846712e-02,  2.90991254e-02, -9.30025615e-03,\n",
       "       -7.47914426e-03,  2.67241802e-03,  4.99166101e-02,  1.72424130e-02,\n",
       "       -3.29363495e-02,  1.92750152e-02, -2.67218873e-02,  5.18920682e-02,\n",
       "       -2.72232126e-02,  1.35032395e-02,  1.65663771e-02,  3.20202438e-03,\n",
       "       -7.66794570e-03,  3.15009467e-02, -3.39304730e-02, -1.11432672e-01,\n",
       "       -1.52341099e-02,  1.83094535e-02, -1.48810344e-02, -2.45523900e-02,\n",
       "       -6.23847879e-02,  7.74264103e-03, -3.31747718e-02,  4.10775607e-03,\n",
       "       -2.33622119e-02,  2.66785342e-02, -9.28298756e-03, -1.72345676e-02,\n",
       "       -1.56793001e-04, -4.94698584e-02, -7.86575116e-03, -4.48770355e-03,\n",
       "        3.06240860e-02, -1.72612839e-03,  3.17307301e-02, -3.26492377e-02,\n",
       "       -1.62337292e-02, -2.29120515e-02, -2.16919873e-02, -5.12295514e-02,\n",
       "        1.37390206e-02,  2.33491231e-03, -1.84097793e-02, -2.03282312e-02,\n",
       "        9.58097503e-02, -2.69552413e-02,  4.37105820e-03, -4.56885844e-02,\n",
       "        7.02466294e-02,  4.42987122e-02, -1.81165393e-02,  1.50632393e-02,\n",
       "        7.02519203e-03, -6.33098651e-03,  9.39181820e-03,  6.90760091e-02,\n",
       "       -6.35948591e-03, -1.25458610e-04,  4.23997007e-02,  7.52263842e-03,\n",
       "       -7.49105513e-02, -3.13936546e-02,  3.58664170e-02, -2.77307946e-02,\n",
       "       -1.27143469e-02,  3.44329663e-02, -2.85429996e-03,  4.34219874e-02,\n",
       "       -3.23414337e-03, -3.30426432e-02,  7.31801912e-02,  6.14786474e-03,\n",
       "        1.50659997e-02,  2.24760287e-02, -4.69837673e-02, -2.78413907e-04,\n",
       "       -2.61966437e-02,  1.54892663e-02, -7.47977989e-03, -4.01988951e-03,\n",
       "       -6.62032068e-02, -1.97538976e-02,  6.11083545e-02,  1.36871031e-02,\n",
       "       -1.86563898e-02,  4.71389517e-02, -2.40927860e-02, -4.55004908e-03,\n",
       "       -5.83696738e-02, -1.74101833e-02, -2.89055370e-02, -1.09215053e-02,\n",
       "       -2.27586944e-02, -4.75119688e-02, -2.80760368e-03,  4.97595891e-02,\n",
       "       -7.80056184e-03,  1.88322980e-02, -3.31196450e-02, -1.34029565e-02,\n",
       "        4.35079485e-02, -3.73876132e-02, -2.07785070e-02, -4.99205068e-02,\n",
       "       -4.06320617e-02, -9.95766465e-03, -1.73548702e-04,  5.99831603e-02,\n",
       "        3.41078416e-02,  2.67406181e-02, -5.92351612e-03,  3.56914685e-03,\n",
       "       -3.33321206e-02, -7.81035749e-03,  1.81902922e-03, -5.20740040e-02,\n",
       "       -6.43559312e-03, -4.68545109e-02,  1.68004800e-02, -4.64556320e-03,\n",
       "       -2.96374154e-03, -3.14567126e-02,  1.04854442e-02,  3.41700576e-02,\n",
       "        4.75547984e-02, -1.05821826e-01, -1.05016790e-02, -7.50378764e-04,\n",
       "       -1.95634272e-02,  1.06892049e-01, -3.63489427e-02, -2.80813221e-02,\n",
       "        4.36833099e-04,  7.21486136e-02, -2.57351529e-02, -2.39067953e-02,\n",
       "       -1.30093237e-02,  1.38986856e-03,  2.31232010e-02,  3.10508814e-03,\n",
       "        2.94046924e-02,  3.51566598e-02, -2.12393403e-02, -7.10934252e-02,\n",
       "       -5.19091152e-02,  3.81604172e-02,  2.04376709e-02,  3.11364904e-02,\n",
       "        3.52009572e-02,  4.46857810e-02, -2.89994888e-02, -1.15384487e-02,\n",
       "       -1.03574693e-02, -1.39665594e-02,  4.46379324e-03,  2.84840222e-02,\n",
       "        1.00403009e-02, -9.79484525e-03,  4.10220921e-02, -3.25943530e-02,\n",
       "        4.18453999e-02, -1.86965857e-02,  8.82649887e-03,  2.78537325e-03,\n",
       "       -6.96001528e-03, -5.01362272e-02,  3.16429255e-03, -7.05811149e-03,\n",
       "        3.35492827e-02, -1.03758611e-02,  3.66795436e-02, -7.22072348e-02,\n",
       "       -3.00803985e-02, -1.32067241e-02, -2.44204607e-02,  4.60907537e-03,\n",
       "       -8.59029940e-04, -5.69583774e-02, -2.45984234e-02, -1.15589537e-02,\n",
       "       -6.32587671e-02, -3.23190875e-02, -1.75238308e-02,  4.72401790e-02,\n",
       "       -3.60679291e-02,  6.88964408e-03, -3.63491173e-03,  2.34132484e-02,\n",
       "        1.84405074e-02, -1.18062478e-02,  1.04889907e-02, -1.78404469e-02,\n",
       "       -1.11427130e-02,  2.83519216e-02, -2.11330168e-02, -1.03829652e-02,\n",
       "        4.89285290e-02,  3.43783125e-02, -7.35134212e-03, -9.37493332e-03,\n",
       "        1.72249600e-02, -2.65193190e-02, -9.69282538e-03,  1.13077927e-02,\n",
       "       -2.76286285e-02, -1.72183402e-02,  8.23406968e-03,  4.05783728e-02,\n",
       "       -9.75788161e-02, -3.92710790e-03, -2.75817583e-03, -1.14231557e-02,\n",
       "        7.83064589e-02, -2.49072706e-04, -2.54356544e-02, -3.16078146e-03,\n",
       "        4.89834249e-02, -5.58338277e-02, -6.35767505e-02, -4.91996005e-04,\n",
       "       -4.91768271e-02, -1.67842340e-02,  4.13965024e-02, -3.30455862e-02,\n",
       "        1.38437459e-02, -1.64264403e-02,  7.14382809e-03,  2.49040611e-02,\n",
       "       -6.33741543e-02, -2.44058538e-02, -4.65058498e-02, -1.03018619e-02,\n",
       "       -3.35504413e-02, -3.52621377e-02, -8.47022142e-03,  3.04658469e-02,\n",
       "        8.86726752e-03,  1.33269439e-02,  4.48198384e-03,  2.99554635e-02,\n",
       "        8.19267854e-02, -3.95551557e-03,  9.45921391e-02,  8.72819778e-03,\n",
       "        3.24310213e-02, -3.16743590e-02,  1.16933351e-02,  1.12843642e-03,\n",
       "        2.57855281e-02, -2.10084990e-02,  5.40794022e-02, -6.88330457e-03,\n",
       "        2.89140753e-02, -1.23311318e-02,  4.81782556e-02, -5.50766811e-02,\n",
       "       -3.02452929e-02,  4.10858244e-02,  8.15278850e-03,  3.08417864e-02,\n",
       "       -1.89407133e-02, -2.83367466e-02,  3.00645176e-03, -1.91496741e-02,\n",
       "       -4.56201620e-02,  5.54047199e-03,  4.56625558e-02,  2.12338679e-02,\n",
       "        2.58582141e-02,  2.72224750e-02, -4.72946763e-02,  2.54320167e-02,\n",
       "        9.14959833e-02, -1.27845816e-02, -2.82118358e-02, -1.85665600e-02,\n",
       "       -6.34609163e-02, -1.24227919e-03,  4.58948966e-03,  2.09341869e-02,\n",
       "       -3.39578353e-02, -1.58181437e-03,  1.13110421e-02,  3.60795893e-02,\n",
       "        4.10229713e-02, -6.95855531e-04,  9.64432210e-03,  5.45096211e-03,\n",
       "        2.47778781e-02,  3.14188972e-02,  4.24550809e-02, -4.32845252e-03,\n",
       "        1.65219158e-02, -6.42187847e-03,  4.01510559e-02, -8.30297638e-03,\n",
       "        4.99247350e-02,  2.50875503e-02,  4.40017842e-02, -1.06261410e-02,\n",
       "       -1.31670339e-02, -1.13447160e-02,  3.29535194e-02,  1.44534176e-02,\n",
       "        3.70858125e-02, -1.25882803e-02, -1.22828363e-02,  2.79852543e-02,\n",
       "       -1.91051532e-02, -2.21999548e-02,  5.70659153e-02,  3.65274139e-02,\n",
       "        1.37897872e-03, -3.95369306e-02,  3.09180766e-02,  9.58143082e-03,\n",
       "        5.82395075e-03,  1.71522982e-02, -2.32071429e-03,  5.95997348e-02,\n",
       "        1.35232322e-02,  1.19381966e-02,  3.98604292e-03, -3.24206688e-02,\n",
       "        1.37515925e-02, -2.26116981e-02, -3.99373434e-02,  1.39887873e-02,\n",
       "        3.50830704e-02,  4.55707917e-03,  7.63797481e-03, -2.95869131e-02,\n",
       "       -6.57910407e-02, -6.79301620e-02,  3.20322365e-02,  3.85105163e-02,\n",
       "        5.82170999e-03, -1.88912004e-02,  1.18346540e-02,  4.90546366e-03,\n",
       "       -8.22085794e-03,  1.69234425e-02, -2.35954113e-02,  7.35041350e-02,\n",
       "        3.83923226e-03, -1.07085863e-02, -6.61847834e-03,  1.23729603e-02,\n",
       "       -8.72931480e-02, -2.68258844e-02, -1.08495653e-02,  5.48514873e-02,\n",
       "       -2.83273794e-02, -5.24326004e-02,  3.24678831e-02,  1.16664693e-02,\n",
       "       -1.64671231e-03, -3.88941951e-02,  3.21133323e-02,  4.22592722e-02,\n",
       "        4.45563048e-02,  6.59731552e-02, -1.79621205e-02, -8.64055194e-03,\n",
       "       -3.41466777e-02,  3.62287350e-02, -9.33597088e-02, -7.45403767e-03,\n",
       "       -2.23162118e-02,  1.70008410e-02, -5.21107502e-02,  7.26133445e-03,\n",
       "       -1.40622826e-02,  1.06721343e-02,  1.64043845e-03,  2.02366319e-02,\n",
       "       -3.70570868e-02,  6.65033876e-04,  3.79711064e-03, -5.62507547e-02,\n",
       "        6.71388581e-02, -5.47598675e-02, -4.35776860e-02, -4.30208258e-03,\n",
       "        4.18701395e-02, -6.37537315e-02,  1.44347694e-04,  6.83684871e-02,\n",
       "       -1.09456457e-01, -4.45323475e-02, -2.34451406e-02, -5.18654226e-33,\n",
       "       -2.04390548e-02,  5.15205339e-02, -7.93557148e-03, -3.31860483e-02,\n",
       "        6.18981868e-02,  1.17699847e-01, -1.88153926e-02, -5.11835665e-02,\n",
       "       -2.94561964e-02,  5.69576174e-02, -1.45411296e-02, -8.86349659e-03,\n",
       "        1.34674264e-02,  2.74255835e-02,  3.65864709e-02, -1.78105459e-02,\n",
       "        1.92146637e-02,  4.57736589e-02, -2.92458180e-02,  4.31371778e-02,\n",
       "       -9.75703746e-02,  9.00561083e-03, -6.33826032e-02,  2.45661214e-02,\n",
       "        2.43831538e-02, -1.04733175e-02,  4.15967219e-02, -1.60386097e-02,\n",
       "        1.42829251e-02, -2.73557846e-02, -8.56359024e-04,  3.86144756e-03,\n",
       "        2.93082297e-02,  2.12054718e-02,  6.85713161e-03, -5.72853861e-03,\n",
       "        1.99483950e-02,  1.47555824e-02, -1.34724071e-02, -4.78622839e-02,\n",
       "       -6.34545684e-02, -1.96268372e-02,  1.32541610e-02, -8.90150294e-03,\n",
       "       -2.17044111e-02,  1.92722790e-02,  3.95699367e-02,  8.35895631e-03,\n",
       "       -5.89719824e-02, -1.06946249e-02,  1.85072061e-03,  1.75862312e-02,\n",
       "        3.42222378e-02, -4.38409261e-02, -6.01135306e-02,  5.53267114e-02,\n",
       "       -6.70445152e-03,  1.01960570e-01,  2.00392473e-02,  1.27288383e-02,\n",
       "        3.06910072e-02, -1.88643057e-02, -1.90549027e-02, -2.94236131e-02,\n",
       "       -1.47050200e-02,  5.15939668e-03,  7.75685068e-03, -6.55556917e-02,\n",
       "       -5.89429885e-02,  1.67307968e-03, -5.99136166e-02, -7.39581361e-02,\n",
       "        6.44567534e-02, -3.72070074e-02,  3.78960185e-02, -4.82128561e-02,\n",
       "       -6.97399080e-02,  3.34072560e-02, -1.27640501e-01, -5.55011956e-03,\n",
       "       -1.48494393e-02,  6.02521840e-03, -1.58149563e-02,  5.41169895e-03,\n",
       "        2.99759042e-02,  1.06150340e-02,  2.69443784e-02,  2.36499812e-02,\n",
       "        2.20824615e-03, -2.02188175e-02, -7.71799590e-03,  5.64292260e-02,\n",
       "       -9.30672139e-03,  4.74145962e-03,  2.91234851e-02, -2.82314215e-02,\n",
       "        6.35225773e-02,  2.33839173e-03, -5.37544377e-02, -1.58983506e-02,\n",
       "       -5.98644316e-02, -8.88769235e-03, -2.44069584e-02,  3.48595413e-03,\n",
       "        6.37186468e-02,  3.64635251e-02, -1.85140800e-02, -3.38130035e-02,\n",
       "       -2.64593363e-02, -2.83879470e-02, -2.40952875e-02, -1.30287260e-02,\n",
       "       -7.80901778e-03,  1.15134083e-02,  1.66410506e-02,  4.74089943e-02,\n",
       "        3.50563750e-02,  6.98583424e-02,  5.55174164e-02, -2.40681991e-02,\n",
       "       -5.49384728e-02, -2.99199596e-02,  6.90907389e-02, -1.33256074e-02,\n",
       "       -1.08585749e-02, -4.75041308e-02,  1.71523280e-02,  6.03130180e-03,\n",
       "       -6.07147478e-02, -7.87526295e-02,  1.86352674e-02, -4.96664196e-02,\n",
       "        2.36968603e-07, -1.93739180e-02,  2.65155137e-02,  1.66478194e-02,\n",
       "       -7.63490945e-02, -7.33075570e-03,  6.88625639e-03, -1.82032492e-02,\n",
       "       -1.78971794e-02, -3.59312296e-02, -3.44334058e-02,  2.52452325e-02,\n",
       "       -7.09598092e-03, -1.97668280e-02,  1.55421263e-02,  6.24987558e-02,\n",
       "        9.66365188e-02, -1.05990201e-01, -7.03904172e-03,  2.16772221e-03,\n",
       "       -4.57741134e-02, -1.26622140e-03,  2.25424804e-02, -2.18680575e-02,\n",
       "       -3.33696082e-02,  1.42014883e-02, -6.77180365e-02, -8.05071741e-03,\n",
       "        3.81872244e-02,  6.26838803e-02, -2.71658450e-02, -4.29104501e-03,\n",
       "        5.91290789e-03,  1.92032978e-02, -3.22129242e-02, -2.86984947e-02,\n",
       "       -4.65017706e-02, -1.94394626e-02,  7.86957443e-02, -7.99823031e-02,\n",
       "        8.30620527e-02, -2.12410297e-02,  5.25333621e-02,  1.44911755e-03,\n",
       "        2.54518148e-02,  7.02937879e-03, -4.06930037e-02, -6.36406168e-02,\n",
       "        3.99541818e-02,  8.81824791e-02,  3.34152691e-02,  2.17054673e-02,\n",
       "        5.82620613e-02, -1.85556244e-02,  9.56000946e-03,  2.18553375e-03,\n",
       "        2.84273475e-02,  2.62638126e-02, -5.21002486e-02, -5.15836664e-03,\n",
       "        6.09163661e-03,  3.32376622e-02, -3.09610479e-02,  5.04566431e-02,\n",
       "        1.07286796e-02, -4.37671505e-02, -2.14033807e-03, -2.81434637e-02,\n",
       "        1.45433240e-34,  1.40960645e-02, -2.15029344e-02,  9.59280878e-03,\n",
       "        2.31241845e-02, -6.93928276e-04,  4.21571312e-03,  6.26009703e-02,\n",
       "        6.47299038e-03,  3.18142883e-02,  2.95143146e-02, -4.89484258e-02],\n",
       "      dtype=float32)"
      ]
     },
     "execution_count": 27,
     "metadata": {},
     "output_type": "execute_result"
    }
   ],
   "source": [
    "svec[0]"
   ]
  },
  {
   "cell_type": "code",
   "execution_count": 28,
   "id": "81276192-f082-4bdb-a616-c6e75d37e2d2",
   "metadata": {},
   "outputs": [],
   "source": [
    "distances,I=index.search(svec,k=2)"
   ]
  },
  {
   "cell_type": "code",
   "execution_count": 29,
   "id": "0db5295a-5359-46f9-8f8f-89eb18bddbe5",
   "metadata": {},
   "outputs": [
    {
     "data": {
      "text/plain": [
       "array([[1, 0]], dtype=int64)"
      ]
     },
     "execution_count": 29,
     "metadata": {},
     "output_type": "execute_result"
    }
   ],
   "source": [
    "I\n"
   ]
  },
  {
   "cell_type": "code",
   "execution_count": 30,
   "id": "f9349d99-803b-47d9-a786-3929ee7f28d0",
   "metadata": {},
   "outputs": [
    {
     "data": {
      "text/html": [
       "<div>\n",
       "<style scoped>\n",
       "    .dataframe tbody tr th:only-of-type {\n",
       "        vertical-align: middle;\n",
       "    }\n",
       "\n",
       "    .dataframe tbody tr th {\n",
       "        vertical-align: top;\n",
       "    }\n",
       "\n",
       "    .dataframe thead th {\n",
       "        text-align: right;\n",
       "    }\n",
       "</style>\n",
       "<table border=\"1\" class=\"dataframe\">\n",
       "  <thead>\n",
       "    <tr style=\"text-align: right;\">\n",
       "      <th></th>\n",
       "      <th>text</th>\n",
       "      <th>category</th>\n",
       "    </tr>\n",
       "  </thead>\n",
       "  <tbody>\n",
       "    <tr>\n",
       "      <th>1</th>\n",
       "      <td>Fruits, whole grains and vegetables helps control blood pressure</td>\n",
       "      <td>Health</td>\n",
       "    </tr>\n",
       "    <tr>\n",
       "      <th>0</th>\n",
       "      <td>Meditation and yoga can improve mental health</td>\n",
       "      <td>Health</td>\n",
       "    </tr>\n",
       "  </tbody>\n",
       "</table>\n",
       "</div>"
      ],
      "text/plain": [
       "                                                               text category\n",
       "1  Fruits, whole grains and vegetables helps control blood pressure   Health\n",
       "0                     Meditation and yoga can improve mental health   Health"
      ]
     },
     "execution_count": 30,
     "metadata": {},
     "output_type": "execute_result"
    }
   ],
   "source": [
    "df.loc[I[0]]"
   ]
  },
  {
   "cell_type": "code",
   "execution_count": null,
   "id": "f787cf76-6b9f-4b7a-ae65-86022e9d6534",
   "metadata": {},
   "outputs": [],
   "source": []
  }
 ],
 "metadata": {
  "kernelspec": {
   "display_name": "Python 3 (ipykernel)",
   "language": "python",
   "name": "python3"
  },
  "language_info": {
   "codemirror_mode": {
    "name": "ipython",
    "version": 3
   },
   "file_extension": ".py",
   "mimetype": "text/x-python",
   "name": "python",
   "nbconvert_exporter": "python",
   "pygments_lexer": "ipython3",
   "version": "3.12.4"
  }
 },
 "nbformat": 4,
 "nbformat_minor": 5
}
